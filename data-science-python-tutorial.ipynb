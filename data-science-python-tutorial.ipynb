{
 "cells": [
  {
   "cell_type": "code",
   "execution_count": 54,
   "id": "274e00bc",
   "metadata": {},
   "outputs": [
    {
     "name": "stdout",
     "output_type": "stream",
     "text": [
      "[{'eggs': '2 eggs', 'milk': '1/4 cup', 'cheese': '1/3 cup'}, {'bread': '1 breadstick', 'garlic': '3 cloves', 'butter': '1 stick'}, {'bread': '2 slices', 'peanut butter': '1 tablespoon', 'jelly': '1 tablespoon'}]\n"
     ]
    }
   ],
   "source": [
    "recipes = {}\n",
    "omelette = {'omelette': {'eggs': '2 eggs', 'milk': '1/4 cup', 'cheese': '1/3 cup'}}\n",
    "garlic_bread = {'garlic bread': {'bread': '1 breadstick', 'garlic': '3 cloves', 'butter': '1 stick'}}\n",
    "pbj_sandwich = {'pbj sandwich': {'bread': '2 slices', 'peanut butter': '1 tablespoon', 'jelly': '1 tablespoon'}}\n",
    "\n",
    "recipes.update(omelette)\n",
    "recipes.update(garlic_bread)\n",
    "recipes.update(pbj_sandwich)\n",
    "\n",
    "def recipe_list(recipes):\n",
    "    ingredient_list = []\n",
    "    for i in recipes:\n",
    "        ingredient_list.append(recipes[i])\n",
    "    return ingredient_list\n",
    "\n",
    "print(recipe_list(recipes))"
   ]
  },
  {
   "cell_type": "code",
   "execution_count": 1,
   "id": "691689f5",
   "metadata": {},
   "outputs": [
    {
     "data": {
      "text/plain": [
       "3"
      ]
     },
     "execution_count": 1,
     "metadata": {},
     "output_type": "execute_result"
    }
   ],
   "source": [
    "1+2"
   ]
  },
  {
   "cell_type": "markdown",
   "id": "efcd0028",
   "metadata": {},
   "source": [
    "### tHIS HAS 3 POUND SIGNS\n",
    "## THIS HAS 2 POUND SIGNS\n",
    "# THIS HAS 1 POUND SIGN"
   ]
  },
  {
   "cell_type": "markdown",
   "id": "c558bf60",
   "metadata": {},
   "source": [
    "## List \n",
    "This is very very often used in data science"
   ]
  },
  {
   "cell_type": "code",
   "execution_count": 5,
   "id": "9d5f2902",
   "metadata": {},
   "outputs": [
    {
     "data": {
      "text/plain": [
       "['Sam', 'Brian', 'Moussa Doumbia', 'Ujjawal', 'Samuel', 'kiara']"
      ]
     },
     "execution_count": 5,
     "metadata": {},
     "output_type": "execute_result"
    }
   ],
   "source": [
    "my_lst = ['Sam', 'Brian', 'Moussa Doumbia', 'Ujjawal', 'Samuel', 'kiara']\n",
    "my_lst"
   ]
  },
  {
   "cell_type": "code",
   "execution_count": 6,
   "id": "f6b34ccb",
   "metadata": {},
   "outputs": [
    {
     "data": {
      "text/plain": [
       "['Sam', 'Brian', 'Moussa Doumbia', 'Ujjawal', 'Samuel', 'kiara', 'George']"
      ]
     },
     "execution_count": 6,
     "metadata": {},
     "output_type": "execute_result"
    }
   ],
   "source": [
    "# add something to a list\n",
    "# use append() --> will add a element to the last of the list\n",
    "\n",
    "my_lst.append('George')\n",
    "my_lst"
   ]
  },
  {
   "cell_type": "code",
   "execution_count": 7,
   "id": "2ada09c6",
   "metadata": {},
   "outputs": [
    {
     "data": {
      "text/plain": [
       "['Sam', 'Brian', 'Moussa Doumbia', 'Samuel', 'kiara', 'George']"
      ]
     },
     "execution_count": 7,
     "metadata": {},
     "output_type": "execute_result"
    }
   ],
   "source": [
    "# remove() --> will let you remove the list element by a value\n",
    "my_lst.remove('Ujjawal')\n",
    "my_lst"
   ]
  },
  {
   "cell_type": "code",
   "execution_count": 9,
   "id": "ffce1b11",
   "metadata": {},
   "outputs": [
    {
     "data": {
      "text/plain": [
       "'Samuel'"
      ]
     },
     "execution_count": 9,
     "metadata": {},
     "output_type": "execute_result"
    }
   ],
   "source": [
    "# Indexing --> Indexing means to get the particualar list element from the list\n",
    "## In python , index always begins from 0\n",
    "my_lst[3]\n"
   ]
  },
  {
   "cell_type": "markdown",
   "id": "0b867e24",
   "metadata": {},
   "source": [
    "my_lst[0] --> gave me the first element<br>\n",
    "my_lst[3] --> give me the 4th element<br>"
   ]
  },
  {
   "cell_type": "code",
   "execution_count": 10,
   "id": "c60a784c",
   "metadata": {},
   "outputs": [
    {
     "data": {
      "text/plain": [
       "'George'"
      ]
     },
     "execution_count": 10,
     "metadata": {},
     "output_type": "execute_result"
    }
   ],
   "source": [
    "## Reverse indexing\n",
    "# But the reverse index will start from -1. (when you try to index from the end)\n",
    "my_lst[-1]"
   ]
  },
  {
   "cell_type": "code",
   "execution_count": 11,
   "id": "91965881",
   "metadata": {},
   "outputs": [
    {
     "data": {
      "text/plain": [
       "['Sam', 'Brian', 'Moussa Doumbia', 'Samuel']"
      ]
     },
     "execution_count": 11,
     "metadata": {},
     "output_type": "execute_result"
    }
   ],
   "source": [
    "# Slicing ---> means to get the bunch of elements at once\n",
    "# python never touches the last index point, it's because the indexing is from the 0\n",
    "my_lst[0:4] "
   ]
  },
  {
   "cell_type": "code",
   "execution_count": null,
   "id": "955cfdd8",
   "metadata": {},
   "outputs": [],
   "source": [
    "# Slicing formula\n",
    "\n",
    "listname[start_index:end_index:step]\n",
    "by default start_index --> 0\n",
    "by default end_index --> len(whole_list)\n",
    "step by default is --> 1"
   ]
  },
  {
   "cell_type": "code",
   "execution_count": 15,
   "id": "967896bc",
   "metadata": {},
   "outputs": [
    {
     "data": {
      "text/plain": [
       "['Sam', 'Brian', 'Moussa Doumbia', 'Samuel', 'kiara', 'George']"
      ]
     },
     "execution_count": 15,
     "metadata": {},
     "output_type": "execute_result"
    }
   ],
   "source": [
    "my_lst[:] #my_lst"
   ]
  },
  {
   "cell_type": "code",
   "execution_count": 16,
   "id": "dc85c17d",
   "metadata": {},
   "outputs": [
    {
     "data": {
      "text/plain": [
       "['Brian', 'Moussa Doumbia', 'Samuel', 'kiara']"
      ]
     },
     "execution_count": 16,
     "metadata": {},
     "output_type": "execute_result"
    }
   ],
   "source": [
    "my_lst[1:5]"
   ]
  },
  {
   "cell_type": "code",
   "execution_count": 18,
   "id": "8ea66e63",
   "metadata": {},
   "outputs": [
    {
     "data": {
      "text/plain": [
       "['Sam', 'Brian', 'Prof. Moussa Doumbia', 'Samuel', 'kiara', 'George']"
      ]
     },
     "execution_count": 18,
     "metadata": {},
     "output_type": "execute_result"
    }
   ],
   "source": [
    "# replace the particular value from a list\n",
    "\n",
    "my_lst[2] = 'Prof. Moussa Doumbia'  # I am overwrting the value in the list\n",
    "my_lst"
   ]
  },
  {
   "cell_type": "code",
   "execution_count": 19,
   "id": "99ca26c3",
   "metadata": {},
   "outputs": [
    {
     "data": {
      "text/plain": [
       "['George', 'kiara', 'Samuel', 'Prof. Moussa Doumbia', 'Brian', 'Sam']"
      ]
     },
     "execution_count": 19,
     "metadata": {},
     "output_type": "execute_result"
    }
   ],
   "source": [
    "# this is reverse of the list in one line\n",
    "my_lst[::-1]"
   ]
  },
  {
   "cell_type": "markdown",
   "id": "11951598",
   "metadata": {},
   "source": [
    "# STRING"
   ]
  },
  {
   "cell_type": "markdown",
   "id": "46c1d1ba",
   "metadata": {},
   "source": [
    "the main difference between list and string is that list value can be updated(overwrite) but string value cannot be overwritten"
   ]
  },
  {
   "cell_type": "code",
   "execution_count": 3,
   "id": "725ad693",
   "metadata": {},
   "outputs": [
    {
     "data": {
      "text/plain": [
       "'Catdog'"
      ]
     },
     "execution_count": 3,
     "metadata": {},
     "output_type": "execute_result"
    }
   ],
   "source": [
    "my_str = 'Cat'\n",
    "your_str = 'dog'\n",
    "my_str + your_str"
   ]
  },
  {
   "cell_type": "markdown",
   "id": "3d8afbfa",
   "metadata": {},
   "source": [
    "### my_str[0] = 'D'\n",
    "This is a error"
   ]
  },
  {
   "cell_type": "code",
   "execution_count": 6,
   "id": "1d689663",
   "metadata": {},
   "outputs": [
    {
     "data": {
      "text/plain": [
       "'taC'"
      ]
     },
     "execution_count": 6,
     "metadata": {},
     "output_type": "execute_result"
    }
   ],
   "source": [
    "my_str = 'Cat'\n",
    "my_str[:]"
   ]
  },
  {
   "cell_type": "code",
   "execution_count": 22,
   "id": "d13facbf",
   "metadata": {},
   "outputs": [
    {
     "data": {
      "text/plain": [
       "'Ca'"
      ]
     },
     "execution_count": 22,
     "metadata": {},
     "output_type": "execute_result"
    }
   ],
   "source": [
    "my_str[0:2]"
   ]
  },
  {
   "cell_type": "code",
   "execution_count": 23,
   "id": "1577ff35",
   "metadata": {},
   "outputs": [
    {
     "data": {
      "text/plain": [
       "'CatCatCat'"
      ]
     },
     "execution_count": 23,
     "metadata": {},
     "output_type": "execute_result"
    }
   ],
   "source": [
    "## Repeat the string multiple times\n",
    "\n",
    "my_str * 3"
   ]
  },
  {
   "cell_type": "code",
   "execution_count": 24,
   "id": "e1546e0c",
   "metadata": {},
   "outputs": [
    {
     "data": {
      "text/plain": [
       "3"
      ]
     },
     "execution_count": 24,
     "metadata": {},
     "output_type": "execute_result"
    }
   ],
   "source": [
    "# len() --> means the length\n",
    "len(my_str)"
   ]
  },
  {
   "cell_type": "code",
   "execution_count": 29,
   "id": "f6e4a6b9",
   "metadata": {},
   "outputs": [
    {
     "data": {
      "text/plain": [
       "'COOKIE'"
      ]
     },
     "execution_count": 29,
     "metadata": {},
     "output_type": "execute_result"
    }
   ],
   "source": [
    "my_str = 'Cookie'\n",
    "my_str.upper()"
   ]
  },
  {
   "cell_type": "code",
   "execution_count": 37,
   "id": "0411d865",
   "metadata": {},
   "outputs": [
    {
     "data": {
      "text/plain": [
       "'     My name is Ujjawal'"
      ]
     },
     "execution_count": 37,
     "metadata": {},
     "output_type": "execute_result"
    }
   ],
   "source": [
    "# strip() --> it will edit the string to have no extra spaces at the start and at the end\n",
    "my_str = '     My name is Ujjawal       '\n",
    "my_str.rstrip()\n",
    "# my_str"
   ]
  },
  {
   "cell_type": "code",
   "execution_count": 40,
   "id": "5417e59c",
   "metadata": {},
   "outputs": [
    {
     "data": {
      "text/plain": [
       "['Bananas ', ' apple ', ' kiwi ', ' orange ', ' pineapple ', ' mango']"
      ]
     },
     "execution_count": 40,
     "metadata": {},
     "output_type": "execute_result"
    }
   ],
   "source": [
    "# split() --> One of the very important\n",
    "\n",
    "fruit_names = 'Bananas + apple + kiwi + orange + pineapple + mango'\n",
    "fruit_names.split('+')"
   ]
  },
  {
   "cell_type": "code",
   "execution_count": 43,
   "id": "06385f47",
   "metadata": {},
   "outputs": [
    {
     "name": "stdout",
     "output_type": "stream",
     "text": [
      "ujjawal.shah\n"
     ]
    }
   ],
   "source": [
    "#emaail --> firstnamelastname@domainname.com\n",
    "\n",
    "email = 'ujjawal.shah@bison.howard.edu'\n",
    "name = email.split('@')[0]\n",
    "domain = email.split('@')[1]\n",
    "print(name)"
   ]
  },
  {
   "cell_type": "code",
   "execution_count": 46,
   "id": "a6a4f404",
   "metadata": {},
   "outputs": [
    {
     "data": {
      "text/plain": [
       "['bison', 'howard', 'edu']"
      ]
     },
     "execution_count": 46,
     "metadata": {},
     "output_type": "execute_result"
    }
   ],
   "source": [
    "domain.split('.')"
   ]
  },
  {
   "cell_type": "code",
   "execution_count": 48,
   "id": "b887342d",
   "metadata": {},
   "outputs": [
    {
     "data": {
      "text/plain": [
       "'ujjawal@bison.howard.edu'"
      ]
     },
     "execution_count": 48,
     "metadata": {},
     "output_type": "execute_result"
    }
   ],
   "source": [
    "#with replace, you can also play to remove certain character as well\n",
    "email = 'ujjawal.shah@bison.howard.edu'\n",
    "email = email.replace('.shah', '') \n",
    "email"
   ]
  },
  {
   "cell_type": "code",
   "execution_count": 49,
   "id": "1fd357c3",
   "metadata": {},
   "outputs": [
    {
     "data": {
      "text/plain": [
       "'ujjawal.noshah@bison.howard.edu'"
      ]
     },
     "execution_count": 49,
     "metadata": {},
     "output_type": "execute_result"
    }
   ],
   "source": [
    "#with replace, you can also play to remove certain character as well\n",
    "email = 'ujjawal.shah@bison.howard.edu'\n",
    "email = email.replace('.shah', '.noshah') \n",
    "email"
   ]
  },
  {
   "cell_type": "markdown",
   "id": "1563c39e",
   "metadata": {},
   "source": [
    "**alphanumeric, meaning alphabet letter (a-z) and numbers (0-9)**"
   ]
  },
  {
   "cell_type": "code",
   "execution_count": 60,
   "id": "3555b97b",
   "metadata": {},
   "outputs": [
    {
     "data": {
      "text/plain": [
       "False"
      ]
     },
     "execution_count": 60,
     "metadata": {},
     "output_type": "execute_result"
    }
   ],
   "source": [
    "e = \"12ab@\"\n",
    "# type(e)\n",
    "e.isalnum()"
   ]
  },
  {
   "cell_type": "code",
   "execution_count": null,
   "id": "c38e962e",
   "metadata": {},
   "outputs": [],
   "source": [
    "maquan.smith@bison.howard.edu\n",
    "You can email him this file"
   ]
  },
  {
   "cell_type": "code",
   "execution_count": null,
   "id": "a7118716",
   "metadata": {},
   "outputs": [],
   "source": [
    "# Dictionaries\n",
    "# Set\n",
    "# Function\n",
    "# map\n",
    "# If else\n",
    "# while loop\n",
    "# for loop\n",
    "\n",
    "The last thing before class is pandas."
   ]
  },
  {
   "cell_type": "code",
   "execution_count": 8,
   "id": "6ac2f51e",
   "metadata": {},
   "outputs": [
    {
     "data": {
      "text/plain": [
       "'USA'"
      ]
     },
     "execution_count": 8,
     "metadata": {},
     "output_type": "execute_result"
    }
   ],
   "source": [
    "# Dictionaries is like a data hub. Data hub is something that stores a value for a particular property\n",
    "\n",
    "student_1 = {'Name': 'Brian',\n",
    "            'Major': 'Data Science',\n",
    "            'Age': 10,\n",
    "            'Country': 'USA',\n",
    "            'Phone Number': 1234567890,\n",
    "            'Laptop Brand': 'HP'}\n",
    "\n",
    "student_2 = {'Name': 'Smith',\n",
    "            'Major': 'Data Science',\n",
    "            'Age': 18,\n",
    "            'Country': 'USA',\n",
    "            'Phone Number': 1234568970,\n",
    "            'Laptop Brand': 'Dell'}\n",
    "\n",
    "student_2['Country']"
   ]
  },
  {
   "cell_type": "code",
   "execution_count": 9,
   "id": "2b518346",
   "metadata": {},
   "outputs": [],
   "source": [
    "# Dictionary always has key & value. Key is our main hero here. It's because it is what willgive us the particular value\n",
    "# keys are always unique. It can't never be duplicate."
   ]
  },
  {
   "cell_type": "code",
   "execution_count": 10,
   "id": "543d8649",
   "metadata": {},
   "outputs": [
    {
     "data": {
      "text/plain": [
       "10"
      ]
     },
     "execution_count": 10,
     "metadata": {},
     "output_type": "execute_result"
    }
   ],
   "source": [
    "# accesign the key values\n",
    "\n",
    "# Age is the key, the value of it can be accesed by:\n",
    "student_1['Age']"
   ]
  },
  {
   "cell_type": "code",
   "execution_count": 65,
   "id": "410385f0",
   "metadata": {},
   "outputs": [
    {
     "data": {
      "text/plain": [
       "'HP'"
      ]
     },
     "execution_count": 65,
     "metadata": {},
     "output_type": "execute_result"
    }
   ],
   "source": [
    "student_1['Laptop Brand']"
   ]
  },
  {
   "cell_type": "code",
   "execution_count": 12,
   "id": "602cf913",
   "metadata": {},
   "outputs": [
    {
     "data": {
      "text/plain": [
       "{'Name': 'Smith',\n",
       " 'Major': 'Data Science',\n",
       " 'Age': 18,\n",
       " 'Country': 'USA',\n",
       " 'Phone Number': 1234568970,\n",
       " 'Laptop Brand': 'Dell',\n",
       " 'Height': 6.2}"
      ]
     },
     "execution_count": 12,
     "metadata": {},
     "output_type": "execute_result"
    }
   ],
   "source": [
    "# Add another key value to a dictionary\n",
    "student_2['Height'] = 6.2\n",
    "student_2"
   ]
  },
  {
   "cell_type": "code",
   "execution_count": 14,
   "id": "c5465dd1",
   "metadata": {},
   "outputs": [
    {
     "data": {
      "text/plain": [
       "{'Name': 'Smith',\n",
       " 'Major': 'Data Science',\n",
       " 'Age': 18,\n",
       " 'Country': 'USA',\n",
       " 'Phone Number': 1234568970,\n",
       " 'Laptop Brand': 'Dell',\n",
       " 'Height': 6.0}"
      ]
     },
     "execution_count": 14,
     "metadata": {},
     "output_type": "execute_result"
    }
   ],
   "source": [
    "# if the value is there, it will update the value else it will create a new key itself\n",
    "student_2['Height'] = 6.0\n",
    "student_2"
   ]
  },
  {
   "cell_type": "code",
   "execution_count": 13,
   "id": "37e4cfc9",
   "metadata": {},
   "outputs": [
    {
     "data": {
      "text/plain": [
       "{'Name': 'Smith',\n",
       " 'Major': 'Data Science',\n",
       " 'Age': 18,\n",
       " 'Country': 'USA',\n",
       " 'Phone Number': 1234568970,\n",
       " 'Laptop Brand': 'Dell'}"
      ]
     },
     "execution_count": 13,
     "metadata": {},
     "output_type": "execute_result"
    }
   ],
   "source": [
    "# Remove a key\n",
    "del student_2['Height']\n",
    "student_2"
   ]
  },
  {
   "cell_type": "code",
   "execution_count": 26,
   "id": "e48bc9cd",
   "metadata": {},
   "outputs": [
    {
     "name": "stdout",
     "output_type": "stream",
     "text": [
      "SAMUEL\n"
     ]
    }
   ],
   "source": [
    "my_lst = ['Sam', 'kiara', 'SAMUEL']\n",
    "\n",
    "for name in my_lst:\n",
    "    name_length = len(name)\n",
    "    if name_length > 3 and name.isupper() == True :\n",
    "        print(name)"
   ]
  },
  {
   "cell_type": "code",
   "execution_count": 27,
   "id": "20ad1aeb",
   "metadata": {},
   "outputs": [
    {
     "name": "stdout",
     "output_type": "stream",
     "text": [
      "kiara\n",
      "SAMUEL\n"
     ]
    }
   ],
   "source": [
    "my_lst = ['Sam', 'kiara', 'SAMUEL']\n",
    "\n",
    "for name in my_lst:\n",
    "    name_length = len(name)\n",
    "    if name_length > 3 or name.isupper() == True :\n",
    "        print(name)"
   ]
  },
  {
   "cell_type": "code",
   "execution_count": 21,
   "id": "8b7976ef",
   "metadata": {},
   "outputs": [
    {
     "name": "stdout",
     "output_type": "stream",
     "text": [
      "Ujjawal [2.8, 'International']\n",
      "Sam [3.6, 'Domestic']\n",
      "Kiara [3.8, 'International']\n",
      "Smith [3.6, 'Domestic']\n",
      "Brian [3.9, 'Domestic']\n"
     ]
    }
   ],
   "source": [
    "student_list = {'Ujjawal':[2.8, 'International'],\n",
    "               'Sam': [3.6, 'Domestic'],\n",
    "               'Kiara':[3.8, 'International'],\n",
    "               'Smith':[3.6, 'Domestic'],\n",
    "               'Brian': [3.9, 'Domestic']}\n",
    "for key, value in student_list.items():\n",
    "    print(key, value)"
   ]
  },
  {
   "cell_type": "code",
   "execution_count": 22,
   "id": "a7db0310",
   "metadata": {},
   "outputs": [
    {
     "name": "stdout",
     "output_type": "stream",
     "text": [
      "Brian has the required eligibilty for this program\n"
     ]
    }
   ],
   "source": [
    "student_list = {'Ujjawal':[2.8, 'International'],\n",
    "               'Sam': [3.6, 'Domestic'],\n",
    "               'Kiara':[3.8, 'International'],\n",
    "               'Smith':[3.6, 'Domestic'],\n",
    "               'Brian': [3.9, 'Domestic']}\n",
    "'''\n",
    "Our code shoudl be filter out: \n",
    "a) Students having gpa >= 3.7\n",
    "b) He/she should be a Domestic Student\n",
    "'''\n",
    "\n",
    "for student_name, details in student_list.items():\n",
    "    gpa = details[0]\n",
    "    nationality = details[1]\n",
    "    \n",
    "    if gpa >= 3.7 and nationality == 'Domestic':\n",
    "        print(f'{student_name} has the required eligibilty for this program')"
   ]
  },
  {
   "cell_type": "code",
   "execution_count": 29,
   "id": "3e7c947c",
   "metadata": {},
   "outputs": [
    {
     "name": "stdout",
     "output_type": "stream",
     "text": [
      "My first name is Brian and my last name is Paul\n"
     ]
    }
   ],
   "source": [
    "# f'string\n",
    "# It just to print in a desired manner\n",
    "\n",
    "fname = 'Brian'\n",
    "lname = 'Paul'\n",
    "final_output = f'My first name is {fname} and my last name is {lname}'\n",
    "print(final_output)"
   ]
  },
  {
   "cell_type": "code",
   "execution_count": 30,
   "id": "42348d19",
   "metadata": {},
   "outputs": [
    {
     "data": {
      "text/plain": [
       "{1, 2, 3, 4, 5}"
      ]
     },
     "execution_count": 30,
     "metadata": {},
     "output_type": "execute_result"
    }
   ],
   "source": [
    "# Set\n",
    "\n",
    "#THE MAIN THING TO REMEMBER IN A SET is that --> IT NEVER ALLOWS DUPLICATE VALUE\n",
    "# set()\n",
    "\n",
    "my_lst = [1,2,2,3,3,3,4,4,4,4,5,5,5,5,5]\n",
    "set(my_lst)"
   ]
  },
  {
   "cell_type": "code",
   "execution_count": null,
   "id": "c75567ff",
   "metadata": {},
   "outputs": [],
   "source": [
    "# In pandas, set uses:\n",
    "# when you need to get the unique values\n",
    "# USED FOR A VARIABLE THAT USUALLY USED AS A UNIQUE ATTRIBUTE"
   ]
  },
  {
   "cell_type": "markdown",
   "id": "713258b5",
   "metadata": {},
   "source": [
    "### while loop"
   ]
  },
  {
   "cell_type": "code",
   "execution_count": 31,
   "id": "1f2d1cc0",
   "metadata": {},
   "outputs": [],
   "source": [
    "## The major difference between a for loop and while loop is that, while loop is always run until a condition \n",
    "## is met ,whereas for loop is used when you need to run a loop 'n' times."
   ]
  },
  {
   "cell_type": "code",
   "execution_count": 32,
   "id": "e3b5ab5b",
   "metadata": {},
   "outputs": [
    {
     "name": "stdout",
     "output_type": "stream",
     "text": [
      "Sam\n",
      "kiara\n",
      "SAMUEL\n"
     ]
    }
   ],
   "source": [
    "my_lst = ['Sam', 'kiara', 'SAMUEL']\n",
    "for name in my_lst:\n",
    "    print(name)"
   ]
  },
  {
   "cell_type": "code",
   "execution_count": 34,
   "id": "c58c91d2",
   "metadata": {},
   "outputs": [
    {
     "name": "stdout",
     "output_type": "stream",
     "text": [
      "Sam\n",
      "kiara\n",
      "SAMUEL\n"
     ]
    }
   ],
   "source": [
    "my_lst = ['Sam', 'kiara', 'SAMUEL']\n",
    "\n",
    "indexx = 0\n",
    "while indexx < len(my_lst):\n",
    "    name = my_lst[indexx]\n",
    "    print(name)\n",
    "    indexx = indexx + 1 # important bcoz omiiting this one will run a infinite loop --> iyt's bcoz index will always be 0"
   ]
  },
  {
   "cell_type": "markdown",
   "id": "3167bb71",
   "metadata": {},
   "source": [
    "## function\n",
    "## lambda\n",
    "## map\n",
    "## filter "
   ]
  },
  {
   "cell_type": "code",
   "execution_count": 37,
   "id": "f7009c32",
   "metadata": {},
   "outputs": [
    {
     "name": "stdout",
     "output_type": "stream",
     "text": [
      "625\n"
     ]
    }
   ],
   "source": [
    "# function\n",
    "\n",
    "def square(num):\n",
    "    return num **2\n",
    "\n",
    "print(square(25))"
   ]
  },
  {
   "cell_type": "code",
   "execution_count": 38,
   "id": "b50be2f4",
   "metadata": {},
   "outputs": [
    {
     "name": "stdout",
     "output_type": "stream",
     "text": [
      "[4, 16, 25, 36]\n"
     ]
    }
   ],
   "source": [
    "my_lst = [2,4,5,6]\n",
    "\n",
    "def square_lst(lst):\n",
    "    final_lst = []\n",
    "    for num in lst:\n",
    "        squared_num = num ** 2\n",
    "        final_lst.append(squared_num)\n",
    "    return final_lst\n",
    "\n",
    "print(square_lst(my_lst))\n",
    "        "
   ]
  },
  {
   "cell_type": "code",
   "execution_count": 40,
   "id": "eb1118cf",
   "metadata": {},
   "outputs": [
    {
     "name": "stdout",
     "output_type": "stream",
     "text": [
      "[4, 16, 25, 36]\n"
     ]
    }
   ],
   "source": [
    "my_lst = [2,4,5,6]\n",
    "final_lst = []\n",
    "for num in my_lst:\n",
    "    squared_num = num ** 2\n",
    "    final_lst.append(squared_num)\n",
    "print(final_lst)"
   ]
  },
  {
   "cell_type": "code",
   "execution_count": 44,
   "id": "b9d2ee0b",
   "metadata": {},
   "outputs": [
    {
     "data": {
      "text/plain": [
       "[4, 16, 25, 36]"
      ]
     },
     "execution_count": 44,
     "metadata": {},
     "output_type": "execute_result"
    }
   ],
   "source": [
    "def square_num(num):\n",
    "    return num ** 2\n",
    "\n",
    "my_lst = [2,4,5,6]\n",
    "\n",
    "# map(function_name, list_name)\n",
    "mapped = map(square_num, my_lst)\n",
    "print(list(mapped))"
   ]
  },
  {
   "cell_type": "code",
   "execution_count": 45,
   "id": "26e9d852",
   "metadata": {
    "scrolled": true
   },
   "outputs": [
    {
     "name": "stdout",
     "output_type": "stream",
     "text": [
      "[4, 16, 25, 36]\n"
     ]
    }
   ],
   "source": [
    "# alternative way to write short function\n",
    "# lambda x: x**2\n",
    "# x --> input\n",
    "# x**2 --> output\n",
    "\n",
    "square_num = lambda a: a ** 2\n",
    "my_lst = [2,4,5,6]\n",
    "mapped = map(square_num, my_lst)\n",
    "print(list(mapped))"
   ]
  },
  {
   "cell_type": "code",
   "execution_count": null,
   "id": "4e500972",
   "metadata": {},
   "outputs": [],
   "source": [
    "# filter is very similar to map, except that it's gonna print only the True value in a iterable."
   ]
  },
  {
   "cell_type": "code",
   "execution_count": 49,
   "id": "6c388307",
   "metadata": {},
   "outputs": [
    {
     "data": {
      "text/plain": [
       "[False, True, True, False, False, False, False, False]"
      ]
     },
     "execution_count": 49,
     "metadata": {},
     "output_type": "execute_result"
    }
   ],
   "source": [
    "'''\n",
    "function: function that tests if each element of a \n",
    "sequence true or not.'''\n",
    "\n",
    "# function that filters vowels\n",
    "def check_vowel(variable):\n",
    "    letters = ['a', 'e', 'i', 'o', 'u']\n",
    "    if (variable in letters):\n",
    "        return True\n",
    "    else:\n",
    "        return False\n",
    " \n",
    "# sequence\n",
    "sequence = ['g', 'e', 'e', 'j', 'k', 's', 'p', 'r']\n",
    " \n",
    "# using filter function\n",
    "filtered = map(check_vowel, sequence)\n",
    " \n",
    "list(filtered)"
   ]
  },
  {
   "cell_type": "code",
   "execution_count": 50,
   "id": "f269ebd8",
   "metadata": {},
   "outputs": [
    {
     "data": {
      "text/plain": [
       "['e', 'e']"
      ]
     },
     "execution_count": 50,
     "metadata": {},
     "output_type": "execute_result"
    }
   ],
   "source": [
    "'''\n",
    "function: function that tests if each element of a \n",
    "sequence true or not.'''\n",
    "\n",
    "# function that filters vowels\n",
    "def check_vowel(variable):\n",
    "    letters = ['a', 'e', 'i', 'o', 'u']\n",
    "    if (variable in letters):\n",
    "        return True\n",
    "    else:\n",
    "        return False\n",
    " \n",
    "# sequence\n",
    "sequence = ['g', 'e', 'e', 'j', 'k', 's', 'p', 'r']\n",
    " \n",
    "# using filter function\n",
    "filtered = filter(check_vowel, sequence)\n",
    " \n",
    "list(filtered)"
   ]
  },
  {
   "cell_type": "code",
   "execution_count": null,
   "id": "6350e0be",
   "metadata": {},
   "outputs": [],
   "source": []
  }
 ],
 "metadata": {
  "kernelspec": {
   "display_name": "Python 3 (ipykernel)",
   "language": "python",
   "name": "python3"
  },
  "language_info": {
   "codemirror_mode": {
    "name": "ipython",
    "version": 3
   },
   "file_extension": ".py",
   "mimetype": "text/x-python",
   "name": "python",
   "nbconvert_exporter": "python",
   "pygments_lexer": "ipython3",
   "version": "3.9.13"
  }
 },
 "nbformat": 4,
 "nbformat_minor": 5
}
