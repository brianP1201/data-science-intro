{
 "cells": [
  {
   "cell_type": "code",
   "execution_count": 3,
   "id": "274e00bc",
   "metadata": {},
   "outputs": [
    {
     "name": "stdout",
     "output_type": "stream",
     "text": [
      "[{'omelette': {'eggs': '2 eggs', 'milk': '1/4 cup', 'cheese': '1/3 cup'}, 'garlic bread': {'bread': '1 breadstick', 'garlic': '3 cloves', 'butter': '1 stick'}, 'pbj sandwich': {'bread': '2 slices', 'peanut butter': '1 tablespoon', 'jelly': '1 tablespoon'}}, {'omelette': {'eggs': '2 eggs', 'milk': '1/4 cup', 'cheese': '1/3 cup'}, 'garlic bread': {'bread': '1 breadstick', 'garlic': '3 cloves', 'butter': '1 stick'}, 'pbj sandwich': {'bread': '2 slices', 'peanut butter': '1 tablespoon', 'jelly': '1 tablespoon'}}, {'omelette': {'eggs': '2 eggs', 'milk': '1/4 cup', 'cheese': '1/3 cup'}, 'garlic bread': {'bread': '1 breadstick', 'garlic': '3 cloves', 'butter': '1 stick'}, 'pbj sandwich': {'bread': '2 slices', 'peanut butter': '1 tablespoon', 'jelly': '1 tablespoon'}}]\n"
     ]
    }
   ],
   "source": [
    "recipes = {}\n",
    "omelette = {'omelette': {'eggs': '2 eggs', 'milk': '1/4 cup', 'cheese': '1/3 cup'}}\n",
    "garlic_bread = {'garlic bread': {'bread': '1 breadstick', 'garlic': '3 cloves', 'butter': '1 stick'}}\n",
    "pbj_sandwich = {'pbj sandwich': {'bread': '2 slices', 'peanut butter': '1 tablespoon', 'jelly': '1 tablespoon'}}\n",
    "\n",
    "recipes.update(omelette)\n",
    "recipes.update(garlic_bread)\n",
    "recipes.update(pbj_sandwich)\n",
    "\n",
    "def recipe_list(recipes):\n",
    "    ingredient_list = []\n",
    "    for i in recipes:\n",
    "        ingredient_list.append(recipes)\n",
    "    return ingredient_list\n",
    "\n",
    "print(recipe_list(recipes))"
   ]
  }
 ],
 "metadata": {
  "kernelspec": {
   "display_name": "Python 3 (ipykernel)",
   "language": "python",
   "name": "python3"
  },
  "language_info": {
   "codemirror_mode": {
    "name": "ipython",
    "version": 3
   },
   "file_extension": ".py",
   "mimetype": "text/x-python",
   "name": "python",
   "nbconvert_exporter": "python",
   "pygments_lexer": "ipython3",
   "version": "3.9.13"
  }
 },
 "nbformat": 4,
 "nbformat_minor": 5
}
