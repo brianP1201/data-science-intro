{
 "cells": [
  {
   "cell_type": "code",
   "execution_count": 14,
   "id": "274e00bc",
   "metadata": {},
   "outputs": [
    {
     "name": "stdout",
     "output_type": "stream",
     "text": [
      "[{'eggs': '2 eggs', 'milk': '1/4 cup', 'cheese': '1/3 cup'}, {'bread': '1 breadstick', 'garlic': '3 cloves', 'butter': '1 stick'}, {'bread': '2 slices', 'peanut butter': '1 tablespoon', 'jelly': '1 tablespoon'}]\n"
     ]
    }
   ],
   "source": [
    "recipes = {}\n",
    "omelette = {'omelette': {'eggs': '2 eggs', 'milk': '1/4 cup', 'cheese': '1/3 cup'}}\n",
    "garlic_bread = {'garlic bread': {'bread': '1 breadstick', 'garlic': '3 cloves', 'butter': '1 stick'}}\n",
    "pbj_sandwich = {'pbj sandwich': {'bread': '2 slices', 'peanut butter': '1 tablespoon', 'jelly': '1 tablespoon'}}\n",
    "\n",
    "recipes.update(omelette)\n",
    "recipes.update(garlic_bread)\n",
    "recipes.update(pbj_sandwich)\n",
    "\n",
    "def recipe_list(recipes):\n",
    "    ingredient_list = []\n",
    "    for i in recipes:\n",
    "        ingredient_list.append(recipes[i])\n",
    "        #print(list(recipes[i]))\n",
    "    return ingredient_list\n",
    "\n",
    "print(recipe_list(recipes))"
   ]
  },
  {
   "cell_type": "code",
   "execution_count": 1,
   "id": "691689f5",
   "metadata": {},
   "outputs": [
    {
     "data": {
      "text/plain": [
       "3"
      ]
     },
     "execution_count": 1,
     "metadata": {},
     "output_type": "execute_result"
    }
   ],
   "source": [
    "1+2"
   ]
  },
  {
   "cell_type": "markdown",
   "id": "efcd0028",
   "metadata": {},
   "source": [
    "### tHIS HAS 3 POUND SIGNS\n",
    "## THIS HAS 2 POUND SIGNS\n",
    "# THIS HAS 1 POUND SIGN"
   ]
  },
  {
   "cell_type": "markdown",
   "id": "c558bf60",
   "metadata": {},
   "source": [
    "## List \n",
    "This is very very often used in data science"
   ]
  },
  {
   "cell_type": "code",
   "execution_count": 5,
   "id": "9d5f2902",
   "metadata": {},
   "outputs": [
    {
     "data": {
      "text/plain": [
       "['Sam', 'Brian', 'Moussa Doumbia', 'Ujjawal', 'Samuel', 'kiara']"
      ]
     },
     "execution_count": 5,
     "metadata": {},
     "output_type": "execute_result"
    }
   ],
   "source": [
    "my_lst = ['Sam', 'Brian', 'Moussa Doumbia', 'Ujjawal', 'Samuel', 'kiara']\n",
    "my_lst"
   ]
  },
  {
   "cell_type": "code",
   "execution_count": 6,
   "id": "f6b34ccb",
   "metadata": {},
   "outputs": [
    {
     "data": {
      "text/plain": [
       "['Sam', 'Brian', 'Moussa Doumbia', 'Ujjawal', 'Samuel', 'kiara', 'George']"
      ]
     },
     "execution_count": 6,
     "metadata": {},
     "output_type": "execute_result"
    }
   ],
   "source": [
    "# add something to a list\n",
    "# use append() --> will add a element to the last of the list\n",
    "\n",
    "my_lst.append('George')\n",
    "my_lst"
   ]
  },
  {
   "cell_type": "code",
   "execution_count": 7,
   "id": "2ada09c6",
   "metadata": {},
   "outputs": [
    {
     "data": {
      "text/plain": [
       "['Sam', 'Brian', 'Moussa Doumbia', 'Samuel', 'kiara', 'George']"
      ]
     },
     "execution_count": 7,
     "metadata": {},
     "output_type": "execute_result"
    }
   ],
   "source": [
    "# remove() --> will let you remove the list element by a value\n",
    "my_lst.remove('Ujjawal')\n",
    "my_lst"
   ]
  },
  {
   "cell_type": "code",
   "execution_count": 9,
   "id": "ffce1b11",
   "metadata": {},
   "outputs": [
    {
     "data": {
      "text/plain": [
       "'Samuel'"
      ]
     },
     "execution_count": 9,
     "metadata": {},
     "output_type": "execute_result"
    }
   ],
   "source": [
    "# Indexing --> Indexing means to get the particualar list element from the list\n",
    "## In python , index always begins from 0\n",
    "my_lst[3]\n"
   ]
  },
  {
   "cell_type": "markdown",
   "id": "0b867e24",
   "metadata": {},
   "source": [
    "my_lst[0] --> gave me the first element<br>\n",
    "my_lst[3] --> give me the 4th element<br>"
   ]
  },
  {
   "cell_type": "code",
   "execution_count": 10,
   "id": "c60a784c",
   "metadata": {},
   "outputs": [
    {
     "data": {
      "text/plain": [
       "'George'"
      ]
     },
     "execution_count": 10,
     "metadata": {},
     "output_type": "execute_result"
    }
   ],
   "source": [
    "## Reverse indexing\n",
    "# But the reverse index will start from -1. (when you try to index from the end)\n",
    "my_lst[-1]"
   ]
  },
  {
   "cell_type": "code",
   "execution_count": 11,
   "id": "91965881",
   "metadata": {},
   "outputs": [
    {
     "data": {
      "text/plain": [
       "['Sam', 'Brian', 'Moussa Doumbia', 'Samuel']"
      ]
     },
     "execution_count": 11,
     "metadata": {},
     "output_type": "execute_result"
    }
   ],
   "source": [
    "# Slicing ---> means to get the bunch of elements at once\n",
    "# python never touches the last index point, it's because the indexing is from the 0\n",
    "my_lst[0:4] "
   ]
  },
  {
   "cell_type": "code",
   "execution_count": null,
   "id": "955cfdd8",
   "metadata": {},
   "outputs": [],
   "source": [
    "# Slicing formula\n",
    "\n",
    "listname[start_index:end_index:step]\n",
    "by default start_index --> 0\n",
    "by default end_index --> len(whole_list)\n",
    "step by default is --> 1"
   ]
  },
  {
   "cell_type": "code",
   "execution_count": 15,
   "id": "967896bc",
   "metadata": {},
   "outputs": [
    {
     "data": {
      "text/plain": [
       "['Sam', 'Brian', 'Moussa Doumbia', 'Samuel', 'kiara', 'George']"
      ]
     },
     "execution_count": 15,
     "metadata": {},
     "output_type": "execute_result"
    }
   ],
   "source": [
    "my_lst[:] #my_lst"
   ]
  },
  {
   "cell_type": "code",
   "execution_count": 16,
   "id": "dc85c17d",
   "metadata": {},
   "outputs": [
    {
     "data": {
      "text/plain": [
       "['Brian', 'Moussa Doumbia', 'Samuel', 'kiara']"
      ]
     },
     "execution_count": 16,
     "metadata": {},
     "output_type": "execute_result"
    }
   ],
   "source": [
    "my_lst[1:5]"
   ]
  },
  {
   "cell_type": "code",
   "execution_count": 18,
   "id": "8ea66e63",
   "metadata": {},
   "outputs": [
    {
     "data": {
      "text/plain": [
       "['Sam', 'Brian', 'Prof. Moussa Doumbia', 'Samuel', 'kiara', 'George']"
      ]
     },
     "execution_count": 18,
     "metadata": {},
     "output_type": "execute_result"
    }
   ],
   "source": [
    "# replace the particular value from a list\n",
    "\n",
    "my_lst[2] = 'Prof. Moussa Doumbia'  # I am overwrting the value in the list\n",
    "my_lst"
   ]
  },
  {
   "cell_type": "code",
   "execution_count": 19,
   "id": "99ca26c3",
   "metadata": {},
   "outputs": [
    {
     "data": {
      "text/plain": [
       "['George', 'kiara', 'Samuel', 'Prof. Moussa Doumbia', 'Brian', 'Sam']"
      ]
     },
     "execution_count": 19,
     "metadata": {},
     "output_type": "execute_result"
    }
   ],
   "source": [
    "# this is reverse of the list in one line\n",
    "my_lst[::-1]"
   ]
  },
  {
   "cell_type": "markdown",
   "id": "11951598",
   "metadata": {},
   "source": [
    "# STRING"
   ]
  },
  {
   "cell_type": "markdown",
   "id": "46c1d1ba",
   "metadata": {},
   "source": [
    "the main difference between list and string is that list value can be updated(overwrite) but string value cannot be overwritten"
   ]
  },
  {
   "cell_type": "code",
   "execution_count": 3,
   "id": "725ad693",
   "metadata": {},
   "outputs": [
    {
     "data": {
      "text/plain": [
       "'Catdog'"
      ]
     },
     "execution_count": 3,
     "metadata": {},
     "output_type": "execute_result"
    }
   ],
   "source": [
    "my_str = 'Cat'\n",
    "your_str = 'dog'\n",
    "my_str + your_str"
   ]
  },
  {
   "cell_type": "markdown",
   "id": "3d8afbfa",
   "metadata": {},
   "source": [
    "### my_str[0] = 'D'\n",
    "This is a error"
   ]
  },
  {
   "cell_type": "code",
   "execution_count": 21,
   "id": "1d689663",
   "metadata": {},
   "outputs": [
    {
     "data": {
      "text/plain": [
       "'Cat'"
      ]
     },
     "execution_count": 21,
     "metadata": {},
     "output_type": "execute_result"
    }
   ],
   "source": [
    "my_str[:]"
   ]
  },
  {
   "cell_type": "code",
   "execution_count": 22,
   "id": "d13facbf",
   "metadata": {},
   "outputs": [
    {
     "data": {
      "text/plain": [
       "'Ca'"
      ]
     },
     "execution_count": 22,
     "metadata": {},
     "output_type": "execute_result"
    }
   ],
   "source": [
    "my_str[0:2]"
   ]
  },
  {
   "cell_type": "code",
   "execution_count": 23,
   "id": "1577ff35",
   "metadata": {},
   "outputs": [
    {
     "data": {
      "text/plain": [
       "'CatCatCat'"
      ]
     },
     "execution_count": 23,
     "metadata": {},
     "output_type": "execute_result"
    }
   ],
   "source": [
    "## Repeat the string multiple times\n",
    "\n",
    "my_str * 3"
   ]
  },
  {
   "cell_type": "code",
   "execution_count": 24,
   "id": "e1546e0c",
   "metadata": {},
   "outputs": [
    {
     "data": {
      "text/plain": [
       "3"
      ]
     },
     "execution_count": 24,
     "metadata": {},
     "output_type": "execute_result"
    }
   ],
   "source": [
    "# len() --> means the length\n",
    "len(my_str)"
   ]
  },
  {
   "cell_type": "code",
   "execution_count": 29,
   "id": "f6e4a6b9",
   "metadata": {},
   "outputs": [
    {
     "data": {
      "text/plain": [
       "'COOKIE'"
      ]
     },
     "execution_count": 29,
     "metadata": {},
     "output_type": "execute_result"
    }
   ],
   "source": [
    "my_str = 'Cookie'\n",
    "my_str.upper()"
   ]
  },
  {
   "cell_type": "code",
   "execution_count": 37,
   "id": "0411d865",
   "metadata": {},
   "outputs": [
    {
     "data": {
      "text/plain": [
       "'     My name is Ujjawal'"
      ]
     },
     "execution_count": 37,
     "metadata": {},
     "output_type": "execute_result"
    }
   ],
   "source": [
    "# strip() --> it will edit the string to have no extra spaces at the start and at the end\n",
    "my_str = '     My name is Ujjawal       '\n",
    "my_str.rstrip()\n",
    "# my_str"
   ]
  },
  {
   "cell_type": "code",
   "execution_count": 40,
   "id": "5417e59c",
   "metadata": {},
   "outputs": [
    {
     "data": {
      "text/plain": [
       "['Bananas ', ' apple ', ' kiwi ', ' orange ', ' pineapple ', ' mango']"
      ]
     },
     "execution_count": 40,
     "metadata": {},
     "output_type": "execute_result"
    }
   ],
   "source": [
    "# split() --> One of the very important\n",
    "\n",
    "fruit_names = 'Bananas + apple + kiwi + orange + pineapple + mango'\n",
    "fruit_names.split('+')"
   ]
  },
  {
   "cell_type": "code",
   "execution_count": 43,
   "id": "06385f47",
   "metadata": {},
   "outputs": [
    {
     "name": "stdout",
     "output_type": "stream",
     "text": [
      "ujjawal.shah\n"
     ]
    }
   ],
   "source": [
    "#emaail --> firstnamelastname@domainname.com\n",
    "\n",
    "email = 'ujjawal.shah@bison.howard.edu'\n",
    "name = email.split('@')[0]\n",
    "domain = email.split('@')[1]\n",
    "print(name)"
   ]
  },
  {
   "cell_type": "code",
   "execution_count": 46,
   "id": "a6a4f404",
   "metadata": {},
   "outputs": [
    {
     "data": {
      "text/plain": [
       "['bison', 'howard', 'edu']"
      ]
     },
     "execution_count": 46,
     "metadata": {},
     "output_type": "execute_result"
    }
   ],
   "source": [
    "domain.split('.')"
   ]
  },
  {
   "cell_type": "code",
   "execution_count": 48,
   "id": "b887342d",
   "metadata": {},
   "outputs": [
    {
     "data": {
      "text/plain": [
       "'ujjawal@bison.howard.edu'"
      ]
     },
     "execution_count": 48,
     "metadata": {},
     "output_type": "execute_result"
    }
   ],
   "source": [
    "#with replace, you can also play to remove certain character as well\n",
    "email = 'ujjawal.shah@bison.howard.edu'\n",
    "email = email.replace('.shah', '') \n",
    "email"
   ]
  },
  {
   "cell_type": "code",
   "execution_count": 49,
   "id": "1fd357c3",
   "metadata": {},
   "outputs": [
    {
     "data": {
      "text/plain": [
       "'ujjawal.noshah@bison.howard.edu'"
      ]
     },
     "execution_count": 49,
     "metadata": {},
     "output_type": "execute_result"
    }
   ],
   "source": [
    "#with replace, you can also play to remove certain character as well\n",
    "email = 'ujjawal.shah@bison.howard.edu'\n",
    "email = email.replace('.shah', '.noshah') \n",
    "email"
   ]
  },
  {
   "cell_type": "markdown",
   "id": "1563c39e",
   "metadata": {},
   "source": [
    "**alphanumeric, meaning alphabet letter (a-z) and numbers (0-9)**"
   ]
  },
  {
   "cell_type": "code",
   "execution_count": 60,
   "id": "3555b97b",
   "metadata": {},
   "outputs": [
    {
     "data": {
      "text/plain": [
       "False"
      ]
     },
     "execution_count": 60,
     "metadata": {},
     "output_type": "execute_result"
    }
   ],
   "source": [
    "e = \"12ab@\"\n",
    "# type(e)\n",
    "e.isalnum()"
   ]
  },
  {
   "cell_type": "code",
   "execution_count": null,
   "id": "c38e962e",
   "metadata": {},
   "outputs": [],
   "source": [
    "maquan.smith@bison.howard.edu\n",
    "You can email him this file"
   ]
  },
  {
   "cell_type": "code",
   "execution_count": null,
   "id": "a7118716",
   "metadata": {},
   "outputs": [],
   "source": [
    "# Dictionaries\n",
    "# Set\n",
    "# Function\n",
    "# map\n",
    "# If else\n",
    "# while loop\n",
    "# for loop\n",
    "\n",
    "The last thing before class is pandas."
   ]
  },
  {
   "cell_type": "code",
   "execution_count": 62,
   "id": "6ac2f51e",
   "metadata": {},
   "outputs": [
    {
     "data": {
      "text/plain": [
       "'USA'"
      ]
     },
     "execution_count": 62,
     "metadata": {},
     "output_type": "execute_result"
    }
   ],
   "source": [
    "# Dictionaries is like a data hub. Data hub is something that stores a value for a particular property\n",
    "\n",
    "student_1 = {'Name': 'Brian',\n",
    "            'Major': 'Data Science',\n",
    "            'Age': 10,\n",
    "            'Country': 'USA',\n",
    "            'Phone Number': 1234567890,\n",
    "            'Laptop Brand': 'HP'}\n",
    "\n",
    "student_2 = {'Name': 'Smith',\n",
    "            'Major': 'Data Science',\n",
    "            'Age': 18,\n",
    "            'Country': 'USA',\n",
    "            'Phone Number': 1234568970,\n",
    "            'Laptop Brand': 'Dell'}\n",
    "\n",
    "student_2['Country']"
   ]
  },
  {
   "cell_type": "code",
   "execution_count": null,
   "id": "2b518346",
   "metadata": {},
   "outputs": [],
   "source": [
    "# Dictionary always has key & value. Key is our main hero here. It's because it is what willgive us the particular value\n",
    "# keys are always unique. It can't never be duplicate."
   ]
  },
  {
   "cell_type": "code",
   "execution_count": 63,
   "id": "543d8649",
   "metadata": {},
   "outputs": [
    {
     "data": {
      "text/plain": [
       "10"
      ]
     },
     "execution_count": 63,
     "metadata": {},
     "output_type": "execute_result"
    }
   ],
   "source": [
    "# accesign the key values\n",
    "\n",
    "# Age is the key, the value of it can be accesed by:\n",
    "student_1['Age']"
   ]
  },
  {
   "cell_type": "code",
   "execution_count": 65,
   "id": "410385f0",
   "metadata": {},
   "outputs": [
    {
     "data": {
      "text/plain": [
       "'HP'"
      ]
     },
     "execution_count": 65,
     "metadata": {},
     "output_type": "execute_result"
    }
   ],
   "source": [
    "student_1['Laptop Brand']"
   ]
  },
  {
   "cell_type": "code",
   "execution_count": null,
   "id": "602cf913",
   "metadata": {},
   "outputs": [],
   "source": [
    "# "
   ]
  }
 ],
 "metadata": {
  "kernelspec": {
   "display_name": "Python 3 (ipykernel)",
   "language": "python",
   "name": "python3"
  },
  "language_info": {
   "codemirror_mode": {
    "name": "ipython",
    "version": 3
   },
   "file_extension": ".py",
   "mimetype": "text/x-python",
   "name": "python",
   "nbconvert_exporter": "python",
   "pygments_lexer": "ipython3",
   "version": "3.9.13"
  }
 },
 "nbformat": 4,
 "nbformat_minor": 5
}
